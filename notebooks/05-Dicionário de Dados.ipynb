{
 "cells": [
  {
   "cell_type": "code",
   "execution_count": 1,
   "id": "d470cd8a-694f-44a0-a3ba-1a64680c3803",
   "metadata": {},
   "outputs": [],
   "source": [
    "import pandas as pd "
   ]
  },
  {
   "cell_type": "code",
   "execution_count": 2,
   "id": "b4cabf44-dd09-4f91-8b6c-a2f0c4fd1137",
   "metadata": {},
   "outputs": [],
   "source": [
    "df = pd.read_csv('../data/processed/dataset_final.csv')\n"
   ]
  },
  {
   "cell_type": "code",
   "execution_count": 3,
   "id": "cd0d4453-81aa-4cec-aeda-02be09c24bd6",
   "metadata": {
    "scrolled": true
   },
   "outputs": [
    {
     "data": {
      "text/html": [
       "<div>\n",
       "<style scoped>\n",
       "    .dataframe tbody tr th:only-of-type {\n",
       "        vertical-align: middle;\n",
       "    }\n",
       "\n",
       "    .dataframe tbody tr th {\n",
       "        vertical-align: top;\n",
       "    }\n",
       "\n",
       "    .dataframe thead th {\n",
       "        text-align: right;\n",
       "    }\n",
       "</style>\n",
       "<table border=\"1\" class=\"dataframe\">\n",
       "  <thead>\n",
       "    <tr style=\"text-align: right;\">\n",
       "      <th></th>\n",
       "      <th>variavel</th>\n",
       "      <th>descricao</th>\n",
       "      <th>tipo</th>\n",
       "      <th>subtipo</th>\n",
       "    </tr>\n",
       "  </thead>\n",
       "  <tbody>\n",
       "    <tr>\n",
       "      <th>0</th>\n",
       "      <td>order_id</td>\n",
       "      <td>Identificador do pedido</td>\n",
       "      <td>qualitativa</td>\n",
       "      <td>nominal</td>\n",
       "    </tr>\n",
       "    <tr>\n",
       "      <th>1</th>\n",
       "      <td>store_id</td>\n",
       "      <td>Identificador da loja</td>\n",
       "      <td>qualitativa</td>\n",
       "      <td>nominal</td>\n",
       "    </tr>\n",
       "    <tr>\n",
       "      <th>2</th>\n",
       "      <td>channel_id</td>\n",
       "      <td>Identificador do canal de venda</td>\n",
       "      <td>qualitativa</td>\n",
       "      <td>nominal</td>\n",
       "    </tr>\n",
       "    <tr>\n",
       "      <th>3</th>\n",
       "      <td>payment_order_id_x</td>\n",
       "      <td>ID do pedido de pagamento (pré-merge)</td>\n",
       "      <td>qualitativa</td>\n",
       "      <td>nominal</td>\n",
       "    </tr>\n",
       "    <tr>\n",
       "      <th>4</th>\n",
       "      <td>delivery_order_id</td>\n",
       "      <td>ID do pedido relacionado à entrega</td>\n",
       "      <td>qualitativa</td>\n",
       "      <td>nominal</td>\n",
       "    </tr>\n",
       "    <tr>\n",
       "      <th>5</th>\n",
       "      <td>order_status</td>\n",
       "      <td>Status do pedido</td>\n",
       "      <td>qualitativa</td>\n",
       "      <td>nominal</td>\n",
       "    </tr>\n",
       "    <tr>\n",
       "      <th>6</th>\n",
       "      <td>order_amount</td>\n",
       "      <td>Valor total do pedido</td>\n",
       "      <td>quantitativa</td>\n",
       "      <td>contínua</td>\n",
       "    </tr>\n",
       "    <tr>\n",
       "      <th>7</th>\n",
       "      <td>order_delivery_fee</td>\n",
       "      <td>Taxa de entrega cobrada do cliente</td>\n",
       "      <td>quantitativa</td>\n",
       "      <td>contínua</td>\n",
       "    </tr>\n",
       "    <tr>\n",
       "      <th>8</th>\n",
       "      <td>order_delivery_cost</td>\n",
       "      <td>Custo da entrega</td>\n",
       "      <td>quantitativa</td>\n",
       "      <td>contínua</td>\n",
       "    </tr>\n",
       "    <tr>\n",
       "      <th>9</th>\n",
       "      <td>order_created_hour</td>\n",
       "      <td>Hora da criação do pedido</td>\n",
       "      <td>quantitativa</td>\n",
       "      <td>discreta</td>\n",
       "    </tr>\n",
       "    <tr>\n",
       "      <th>10</th>\n",
       "      <td>order_created_minute</td>\n",
       "      <td>Minuto da criação do pedido</td>\n",
       "      <td>quantitativa</td>\n",
       "      <td>discreta</td>\n",
       "    </tr>\n",
       "    <tr>\n",
       "      <th>11</th>\n",
       "      <td>order_created_day</td>\n",
       "      <td>Dia da criação do pedido</td>\n",
       "      <td>quantitativa</td>\n",
       "      <td>discreta</td>\n",
       "    </tr>\n",
       "    <tr>\n",
       "      <th>12</th>\n",
       "      <td>order_created_month</td>\n",
       "      <td>Mês da criação do pedido</td>\n",
       "      <td>quantitativa</td>\n",
       "      <td>discreta</td>\n",
       "    </tr>\n",
       "    <tr>\n",
       "      <th>13</th>\n",
       "      <td>order_created_year</td>\n",
       "      <td>Ano da criação do pedido</td>\n",
       "      <td>quantitativa</td>\n",
       "      <td>discreta</td>\n",
       "    </tr>\n",
       "    <tr>\n",
       "      <th>14</th>\n",
       "      <td>order_moment_created</td>\n",
       "      <td>Data e hora da criação do pedido</td>\n",
       "      <td>qualitativa</td>\n",
       "      <td>temporal</td>\n",
       "    </tr>\n",
       "    <tr>\n",
       "      <th>15</th>\n",
       "      <td>order_moment_accepted</td>\n",
       "      <td>Data e hora de aceitação do pedido</td>\n",
       "      <td>qualitativa</td>\n",
       "      <td>temporal</td>\n",
       "    </tr>\n",
       "    <tr>\n",
       "      <th>16</th>\n",
       "      <td>order_moment_ready</td>\n",
       "      <td>Data e hora em que o pedido ficou pronto</td>\n",
       "      <td>qualitativa</td>\n",
       "      <td>temporal</td>\n",
       "    </tr>\n",
       "    <tr>\n",
       "      <th>17</th>\n",
       "      <td>order_moment_collected</td>\n",
       "      <td>Data e hora da coleta do pedido</td>\n",
       "      <td>qualitativa</td>\n",
       "      <td>temporal</td>\n",
       "    </tr>\n",
       "    <tr>\n",
       "      <th>18</th>\n",
       "      <td>order_moment_in_expedition</td>\n",
       "      <td>Data e hora de expedição do pedido</td>\n",
       "      <td>qualitativa</td>\n",
       "      <td>temporal</td>\n",
       "    </tr>\n",
       "    <tr>\n",
       "      <th>19</th>\n",
       "      <td>order_moment_delivering</td>\n",
       "      <td>Data e hora de início da entrega</td>\n",
       "      <td>qualitativa</td>\n",
       "      <td>temporal</td>\n",
       "    </tr>\n",
       "    <tr>\n",
       "      <th>20</th>\n",
       "      <td>order_moment_delivered</td>\n",
       "      <td>Data e hora da entrega do pedido</td>\n",
       "      <td>qualitativa</td>\n",
       "      <td>temporal</td>\n",
       "    </tr>\n",
       "    <tr>\n",
       "      <th>21</th>\n",
       "      <td>order_moment_finished</td>\n",
       "      <td>Data e hora de finalização do pedido</td>\n",
       "      <td>qualitativa</td>\n",
       "      <td>temporal</td>\n",
       "    </tr>\n",
       "    <tr>\n",
       "      <th>22</th>\n",
       "      <td>order_metric_collected_time</td>\n",
       "      <td>Tempo até a coleta</td>\n",
       "      <td>quantitativa</td>\n",
       "      <td>contínua</td>\n",
       "    </tr>\n",
       "    <tr>\n",
       "      <th>23</th>\n",
       "      <td>order_metric_paused_time</td>\n",
       "      <td>Tempo pausado durante o processo</td>\n",
       "      <td>quantitativa</td>\n",
       "      <td>contínua</td>\n",
       "    </tr>\n",
       "    <tr>\n",
       "      <th>24</th>\n",
       "      <td>order_metric_production_time</td>\n",
       "      <td>Tempo de produção do pedido</td>\n",
       "      <td>quantitativa</td>\n",
       "      <td>contínua</td>\n",
       "    </tr>\n",
       "    <tr>\n",
       "      <th>25</th>\n",
       "      <td>order_metric_walking_time</td>\n",
       "      <td>Tempo de caminhada até o cliente</td>\n",
       "      <td>quantitativa</td>\n",
       "      <td>contínua</td>\n",
       "    </tr>\n",
       "    <tr>\n",
       "      <th>26</th>\n",
       "      <td>order_metric_expediton_speed_time</td>\n",
       "      <td>Tempo de expedição</td>\n",
       "      <td>quantitativa</td>\n",
       "      <td>contínua</td>\n",
       "    </tr>\n",
       "    <tr>\n",
       "      <th>27</th>\n",
       "      <td>order_metric_transit_time</td>\n",
       "      <td>Tempo de trânsito até o cliente</td>\n",
       "      <td>quantitativa</td>\n",
       "      <td>contínua</td>\n",
       "    </tr>\n",
       "    <tr>\n",
       "      <th>28</th>\n",
       "      <td>order_metric_cycle_time</td>\n",
       "      <td>Tempo total de ciclo do pedido</td>\n",
       "      <td>quantitativa</td>\n",
       "      <td>contínua</td>\n",
       "    </tr>\n",
       "    <tr>\n",
       "      <th>29</th>\n",
       "      <td>channel_name</td>\n",
       "      <td>Nome do canal (ex: App, WhatsApp, etc.)</td>\n",
       "      <td>qualitativa</td>\n",
       "      <td>nominal</td>\n",
       "    </tr>\n",
       "    <tr>\n",
       "      <th>30</th>\n",
       "      <td>channel_type</td>\n",
       "      <td>Tipo do canal (Próprio, Marketplace, etc.)</td>\n",
       "      <td>qualitativa</td>\n",
       "      <td>nominal</td>\n",
       "    </tr>\n",
       "    <tr>\n",
       "      <th>31</th>\n",
       "      <td>hub_id</td>\n",
       "      <td>Identificador do hub logístico</td>\n",
       "      <td>qualitativa</td>\n",
       "      <td>nominal</td>\n",
       "    </tr>\n",
       "    <tr>\n",
       "      <th>32</th>\n",
       "      <td>store_name</td>\n",
       "      <td>Nome da loja</td>\n",
       "      <td>qualitativa</td>\n",
       "      <td>nominal</td>\n",
       "    </tr>\n",
       "    <tr>\n",
       "      <th>33</th>\n",
       "      <td>store_segment</td>\n",
       "      <td>Segmento da loja</td>\n",
       "      <td>qualitativa</td>\n",
       "      <td>nominal</td>\n",
       "    </tr>\n",
       "    <tr>\n",
       "      <th>34</th>\n",
       "      <td>store_plan_price</td>\n",
       "      <td>Valor do plano da loja</td>\n",
       "      <td>quantitativa</td>\n",
       "      <td>contínua</td>\n",
       "    </tr>\n",
       "    <tr>\n",
       "      <th>35</th>\n",
       "      <td>store_latitude</td>\n",
       "      <td>Latitude da loja</td>\n",
       "      <td>quantitativa</td>\n",
       "      <td>contínua</td>\n",
       "    </tr>\n",
       "    <tr>\n",
       "      <th>36</th>\n",
       "      <td>store_longitude</td>\n",
       "      <td>Longitude da loja</td>\n",
       "      <td>quantitativa</td>\n",
       "      <td>contínua</td>\n",
       "    </tr>\n",
       "    <tr>\n",
       "      <th>37</th>\n",
       "      <td>payment_id</td>\n",
       "      <td>Identificador do pagamento</td>\n",
       "      <td>qualitativa</td>\n",
       "      <td>nominal</td>\n",
       "    </tr>\n",
       "    <tr>\n",
       "      <th>38</th>\n",
       "      <td>payment_order_id_y</td>\n",
       "      <td>ID do pedido de pagamento (pós-merge)</td>\n",
       "      <td>qualitativa</td>\n",
       "      <td>nominal</td>\n",
       "    </tr>\n",
       "    <tr>\n",
       "      <th>39</th>\n",
       "      <td>payment_amount</td>\n",
       "      <td>Valor do pagamento</td>\n",
       "      <td>quantitativa</td>\n",
       "      <td>contínua</td>\n",
       "    </tr>\n",
       "    <tr>\n",
       "      <th>40</th>\n",
       "      <td>payment_fee</td>\n",
       "      <td>Taxa da transação</td>\n",
       "      <td>quantitativa</td>\n",
       "      <td>contínua</td>\n",
       "    </tr>\n",
       "    <tr>\n",
       "      <th>41</th>\n",
       "      <td>payment_method</td>\n",
       "      <td>Método de pagamento (cartão, pix, etc.)</td>\n",
       "      <td>qualitativa</td>\n",
       "      <td>nominal</td>\n",
       "    </tr>\n",
       "    <tr>\n",
       "      <th>42</th>\n",
       "      <td>payment_status</td>\n",
       "      <td>Status do pagamento</td>\n",
       "      <td>qualitativa</td>\n",
       "      <td>nominal</td>\n",
       "    </tr>\n",
       "    <tr>\n",
       "      <th>43</th>\n",
       "      <td>delivery_id</td>\n",
       "      <td>Identificador da entrega</td>\n",
       "      <td>qualitativa</td>\n",
       "      <td>nominal</td>\n",
       "    </tr>\n",
       "    <tr>\n",
       "      <th>44</th>\n",
       "      <td>driver_id</td>\n",
       "      <td>ID do motorista responsável pela entrega</td>\n",
       "      <td>qualitativa</td>\n",
       "      <td>nominal</td>\n",
       "    </tr>\n",
       "  </tbody>\n",
       "</table>\n",
       "</div>"
      ],
      "text/plain": [
       "                             variavel  \\\n",
       "0                            order_id   \n",
       "1                            store_id   \n",
       "2                          channel_id   \n",
       "3                  payment_order_id_x   \n",
       "4                   delivery_order_id   \n",
       "5                        order_status   \n",
       "6                        order_amount   \n",
       "7                  order_delivery_fee   \n",
       "8                 order_delivery_cost   \n",
       "9                  order_created_hour   \n",
       "10               order_created_minute   \n",
       "11                  order_created_day   \n",
       "12                order_created_month   \n",
       "13                 order_created_year   \n",
       "14               order_moment_created   \n",
       "15              order_moment_accepted   \n",
       "16                 order_moment_ready   \n",
       "17             order_moment_collected   \n",
       "18         order_moment_in_expedition   \n",
       "19            order_moment_delivering   \n",
       "20             order_moment_delivered   \n",
       "21              order_moment_finished   \n",
       "22        order_metric_collected_time   \n",
       "23           order_metric_paused_time   \n",
       "24       order_metric_production_time   \n",
       "25          order_metric_walking_time   \n",
       "26  order_metric_expediton_speed_time   \n",
       "27          order_metric_transit_time   \n",
       "28            order_metric_cycle_time   \n",
       "29                       channel_name   \n",
       "30                       channel_type   \n",
       "31                             hub_id   \n",
       "32                         store_name   \n",
       "33                      store_segment   \n",
       "34                   store_plan_price   \n",
       "35                     store_latitude   \n",
       "36                    store_longitude   \n",
       "37                         payment_id   \n",
       "38                 payment_order_id_y   \n",
       "39                     payment_amount   \n",
       "40                        payment_fee   \n",
       "41                     payment_method   \n",
       "42                     payment_status   \n",
       "43                        delivery_id   \n",
       "44                          driver_id   \n",
       "\n",
       "                                     descricao          tipo   subtipo  \n",
       "0                      Identificador do pedido   qualitativa   nominal  \n",
       "1                        Identificador da loja   qualitativa   nominal  \n",
       "2              Identificador do canal de venda   qualitativa   nominal  \n",
       "3        ID do pedido de pagamento (pré-merge)   qualitativa   nominal  \n",
       "4           ID do pedido relacionado à entrega   qualitativa   nominal  \n",
       "5                             Status do pedido   qualitativa   nominal  \n",
       "6                        Valor total do pedido  quantitativa  contínua  \n",
       "7           Taxa de entrega cobrada do cliente  quantitativa  contínua  \n",
       "8                             Custo da entrega  quantitativa  contínua  \n",
       "9                    Hora da criação do pedido  quantitativa  discreta  \n",
       "10                 Minuto da criação do pedido  quantitativa  discreta  \n",
       "11                    Dia da criação do pedido  quantitativa  discreta  \n",
       "12                    Mês da criação do pedido  quantitativa  discreta  \n",
       "13                    Ano da criação do pedido  quantitativa  discreta  \n",
       "14            Data e hora da criação do pedido   qualitativa  temporal  \n",
       "15          Data e hora de aceitação do pedido   qualitativa  temporal  \n",
       "16    Data e hora em que o pedido ficou pronto   qualitativa  temporal  \n",
       "17             Data e hora da coleta do pedido   qualitativa  temporal  \n",
       "18          Data e hora de expedição do pedido   qualitativa  temporal  \n",
       "19            Data e hora de início da entrega   qualitativa  temporal  \n",
       "20            Data e hora da entrega do pedido   qualitativa  temporal  \n",
       "21        Data e hora de finalização do pedido   qualitativa  temporal  \n",
       "22                          Tempo até a coleta  quantitativa  contínua  \n",
       "23            Tempo pausado durante o processo  quantitativa  contínua  \n",
       "24                 Tempo de produção do pedido  quantitativa  contínua  \n",
       "25            Tempo de caminhada até o cliente  quantitativa  contínua  \n",
       "26                          Tempo de expedição  quantitativa  contínua  \n",
       "27             Tempo de trânsito até o cliente  quantitativa  contínua  \n",
       "28              Tempo total de ciclo do pedido  quantitativa  contínua  \n",
       "29     Nome do canal (ex: App, WhatsApp, etc.)   qualitativa   nominal  \n",
       "30  Tipo do canal (Próprio, Marketplace, etc.)   qualitativa   nominal  \n",
       "31              Identificador do hub logístico   qualitativa   nominal  \n",
       "32                                Nome da loja   qualitativa   nominal  \n",
       "33                            Segmento da loja   qualitativa   nominal  \n",
       "34                      Valor do plano da loja  quantitativa  contínua  \n",
       "35                            Latitude da loja  quantitativa  contínua  \n",
       "36                           Longitude da loja  quantitativa  contínua  \n",
       "37                  Identificador do pagamento   qualitativa   nominal  \n",
       "38       ID do pedido de pagamento (pós-merge)   qualitativa   nominal  \n",
       "39                          Valor do pagamento  quantitativa  contínua  \n",
       "40                           Taxa da transação  quantitativa  contínua  \n",
       "41     Método de pagamento (cartão, pix, etc.)   qualitativa   nominal  \n",
       "42                         Status do pagamento   qualitativa   nominal  \n",
       "43                    Identificador da entrega   qualitativa   nominal  \n",
       "44    ID do motorista responsável pela entrega   qualitativa   nominal  "
      ]
     },
     "execution_count": 3,
     "metadata": {},
     "output_type": "execute_result"
    }
   ],
   "source": [
    "import pandas as pd\n",
    "\n",
    "# Dicionário de Dados Atualizado\n",
    "data_dictionary = pd.DataFrame([\n",
    "    # Informações do pedido\n",
    "    {\"variavel\": \"order_id\", \"descricao\": \"Identificador do pedido\", \"tipo\": \"qualitativa\", \"subtipo\": \"nominal\"},\n",
    "    {\"variavel\": \"store_id\", \"descricao\": \"Identificador da loja\", \"tipo\": \"qualitativa\", \"subtipo\": \"nominal\"},\n",
    "    {\"variavel\": \"channel_id\", \"descricao\": \"Identificador do canal de venda\", \"tipo\": \"qualitativa\", \"subtipo\": \"nominal\"},\n",
    "    {\"variavel\": \"payment_order_id_x\", \"descricao\": \"ID do pedido de pagamento (pré-merge)\", \"tipo\": \"qualitativa\", \"subtipo\": \"nominal\"},\n",
    "    {\"variavel\": \"delivery_order_id\", \"descricao\": \"ID do pedido relacionado à entrega\", \"tipo\": \"qualitativa\", \"subtipo\": \"nominal\"},\n",
    "    {\"variavel\": \"order_status\", \"descricao\": \"Status do pedido\", \"tipo\": \"qualitativa\", \"subtipo\": \"nominal\"},\n",
    "    {\"variavel\": \"order_amount\", \"descricao\": \"Valor total do pedido\", \"tipo\": \"quantitativa\", \"subtipo\": \"contínua\"},\n",
    "    {\"variavel\": \"order_delivery_fee\", \"descricao\": \"Taxa de entrega cobrada do cliente\", \"tipo\": \"quantitativa\", \"subtipo\": \"contínua\"},\n",
    "    {\"variavel\": \"order_delivery_cost\", \"descricao\": \"Custo da entrega\", \"tipo\": \"quantitativa\", \"subtipo\": \"contínua\"},\n",
    "    \n",
    "    # Tempo de criação do pedido\n",
    "    {\"variavel\": \"order_created_hour\", \"descricao\": \"Hora da criação do pedido\", \"tipo\": \"quantitativa\", \"subtipo\": \"discreta\"},\n",
    "    {\"variavel\": \"order_created_minute\", \"descricao\": \"Minuto da criação do pedido\", \"tipo\": \"quantitativa\", \"subtipo\": \"discreta\"},\n",
    "    {\"variavel\": \"order_created_day\", \"descricao\": \"Dia da criação do pedido\", \"tipo\": \"quantitativa\", \"subtipo\": \"discreta\"},\n",
    "    {\"variavel\": \"order_created_month\", \"descricao\": \"Mês da criação do pedido\", \"tipo\": \"quantitativa\", \"subtipo\": \"discreta\"},\n",
    "    {\"variavel\": \"order_created_year\", \"descricao\": \"Ano da criação do pedido\", \"tipo\": \"quantitativa\", \"subtipo\": \"discreta\"},\n",
    "    \n",
    "    # Momentos do pedido\n",
    "    {\"variavel\": \"order_moment_created\", \"descricao\": \"Data e hora da criação do pedido\", \"tipo\": \"qualitativa\", \"subtipo\": \"temporal\"},\n",
    "    {\"variavel\": \"order_moment_accepted\", \"descricao\": \"Data e hora de aceitação do pedido\", \"tipo\": \"qualitativa\", \"subtipo\": \"temporal\"},\n",
    "    {\"variavel\": \"order_moment_ready\", \"descricao\": \"Data e hora em que o pedido ficou pronto\", \"tipo\": \"qualitativa\", \"subtipo\": \"temporal\"},\n",
    "    {\"variavel\": \"order_moment_collected\", \"descricao\": \"Data e hora da coleta do pedido\", \"tipo\": \"qualitativa\", \"subtipo\": \"temporal\"},\n",
    "    {\"variavel\": \"order_moment_in_expedition\", \"descricao\": \"Data e hora de expedição do pedido\", \"tipo\": \"qualitativa\", \"subtipo\": \"temporal\"},\n",
    "    {\"variavel\": \"order_moment_delivering\", \"descricao\": \"Data e hora de início da entrega\", \"tipo\": \"qualitativa\", \"subtipo\": \"temporal\"},\n",
    "    {\"variavel\": \"order_moment_delivered\", \"descricao\": \"Data e hora da entrega do pedido\", \"tipo\": \"qualitativa\", \"subtipo\": \"temporal\"},\n",
    "    {\"variavel\": \"order_moment_finished\", \"descricao\": \"Data e hora de finalização do pedido\", \"tipo\": \"qualitativa\", \"subtipo\": \"temporal\"},\n",
    "\n",
    "    # Métricas de tempo do pedido\n",
    "    {\"variavel\": \"order_metric_collected_time\", \"descricao\": \"Tempo até a coleta\", \"tipo\": \"quantitativa\", \"subtipo\": \"contínua\"},\n",
    "    {\"variavel\": \"order_metric_paused_time\", \"descricao\": \"Tempo pausado durante o processo\", \"tipo\": \"quantitativa\", \"subtipo\": \"contínua\"},\n",
    "    {\"variavel\": \"order_metric_production_time\", \"descricao\": \"Tempo de produção do pedido\", \"tipo\": \"quantitativa\", \"subtipo\": \"contínua\"},\n",
    "    {\"variavel\": \"order_metric_walking_time\", \"descricao\": \"Tempo de caminhada até o cliente\", \"tipo\": \"quantitativa\", \"subtipo\": \"contínua\"},\n",
    "    {\"variavel\": \"order_metric_expediton_speed_time\", \"descricao\": \"Tempo de expedição\", \"tipo\": \"quantitativa\", \"subtipo\": \"contínua\"},\n",
    "    {\"variavel\": \"order_metric_transit_time\", \"descricao\": \"Tempo de trânsito até o cliente\", \"tipo\": \"quantitativa\", \"subtipo\": \"contínua\"},\n",
    "    {\"variavel\": \"order_metric_cycle_time\", \"descricao\": \"Tempo total de ciclo do pedido\", \"tipo\": \"quantitativa\", \"subtipo\": \"contínua\"},\n",
    "\n",
    "    # Dados do canal\n",
    "    {\"variavel\": \"channel_name\", \"descricao\": \"Nome do canal (ex: App, WhatsApp, etc.)\", \"tipo\": \"qualitativa\", \"subtipo\": \"nominal\"},\n",
    "    {\"variavel\": \"channel_type\", \"descricao\": \"Tipo do canal (Próprio, Marketplace, etc.)\", \"tipo\": \"qualitativa\", \"subtipo\": \"nominal\"},\n",
    "    \n",
    "    # Informações da loja\n",
    "    {\"variavel\": \"hub_id\", \"descricao\": \"Identificador do hub logístico\", \"tipo\": \"qualitativa\", \"subtipo\": \"nominal\"},\n",
    "    {\"variavel\": \"store_name\", \"descricao\": \"Nome da loja\", \"tipo\": \"qualitativa\", \"subtipo\": \"nominal\"},\n",
    "    {\"variavel\": \"store_segment\", \"descricao\": \"Segmento da loja\", \"tipo\": \"qualitativa\", \"subtipo\": \"nominal\"},\n",
    "    {\"variavel\": \"store_plan_price\", \"descricao\": \"Valor do plano da loja\", \"tipo\": \"quantitativa\", \"subtipo\": \"contínua\"},\n",
    "    {\"variavel\": \"store_latitude\", \"descricao\": \"Latitude da loja\", \"tipo\": \"quantitativa\", \"subtipo\": \"contínua\"},\n",
    "    {\"variavel\": \"store_longitude\", \"descricao\": \"Longitude da loja\", \"tipo\": \"quantitativa\", \"subtipo\": \"contínua\"},\n",
    "\n",
    "    # Dados de pagamento\n",
    "    {\"variavel\": \"payment_id\", \"descricao\": \"Identificador do pagamento\", \"tipo\": \"qualitativa\", \"subtipo\": \"nominal\"},\n",
    "    {\"variavel\": \"payment_order_id_y\", \"descricao\": \"ID do pedido de pagamento (pós-merge)\", \"tipo\": \"qualitativa\", \"subtipo\": \"nominal\"},\n",
    "    {\"variavel\": \"payment_amount\", \"descricao\": \"Valor do pagamento\", \"tipo\": \"quantitativa\", \"subtipo\": \"contínua\"},\n",
    "    {\"variavel\": \"payment_fee\", \"descricao\": \"Taxa da transação\", \"tipo\": \"quantitativa\", \"subtipo\": \"contínua\"},\n",
    "    {\"variavel\": \"payment_method\", \"descricao\": \"Método de pagamento (cartão, pix, etc.)\", \"tipo\": \"qualitativa\", \"subtipo\": \"nominal\"},\n",
    "    {\"variavel\": \"payment_status\", \"descricao\": \"Status do pagamento\", \"tipo\": \"qualitativa\", \"subtipo\": \"nominal\"},\n",
    "\n",
    "    # Dados da entrega\n",
    "    {\"variavel\": \"delivery_id\", \"descricao\": \"Identificador da entrega\", \"tipo\": \"qualitativa\", \"subtipo\": \"nominal\"},\n",
    "    {\"variavel\": \"driver_id\", \"descricao\": \"ID do motorista responsável pela entrega\", \"tipo\": \"qualitativa\", \"subtipo\": \"nominal\"},\n",
    "])\n",
    "\n",
    "data_dictionary\n"
   ]
  },
  {
   "cell_type": "markdown",
   "id": "c7c0aeee-9fc4-40bc-b281-3197ba337660",
   "metadata": {},
   "source": [
    "# Legenda do Dicionário de Dados\n",
    "\n",
    "- **Variável**: Nome da coluna ou variável que representa uma característica do conjunto de dados.\n",
    "\n",
    "- **Descrição**: Explicação detalhada sobre o que cada variável representa ou o que a informação armazenada nela indica.\n",
    "\n",
    "- **Tipo**: Indica a natureza ou o tipo de dado que a variável contém, com duas categorias:\n",
    "  \n",
    "  - **Qualitativa**: Refere-se a dados que descrevem categorias ou qualidades (não numéricos), como nomes, status ou identificadores.\n",
    "  \n",
    "  - **Quantitativa**: Refere-se a dados numéricos que podem ser medidos ou contados, permitindo operações matemáticas (como soma ou média).\n",
    "\n",
    "- **Subtipo**: Fornece uma classificação mais específica do tipo de dado, podendo ser:\n",
    "  \n",
    "  - **Nominal**: Categorias sem uma ordem ou hierarquia. Exemplos incluem IDs ou nomes de variáveis como `order_id` ou `store_name`.\n",
    "  \n",
    "  - **Ordinal**: Categorias com uma ordem ou hierarquia implícita, onde os valores podem ser classificados em uma sequência, mas as diferenças entre os valores não têm significado numérico.\n",
    "  \n",
    "  - **Contínua**: Variáveis que podem assumir um número infinito de valores dentro de um intervalo. Exemplos incluem valores como `order_amount` ou `store_latitude`.\n",
    "  \n",
    "  - **Discreta**: Variáveis que assumem valores inteiros específicos e finitos, como o número de itens ou a quantidade de pedidos (`order_created_hour`).\n",
    "  \n",
    "  - **Temporal**: Dados que representam tempos ou instantes no tempo, como datas e horas, por exemplo, `order_moment_created` ou `order_moment_delivered`.\n"
   ]
  },
  {
   "cell_type": "code",
   "execution_count": 4,
   "id": "59bca818-3151-47e9-9d10-27033e176d5b",
   "metadata": {},
   "outputs": [
    {
     "name": "stdout",
     "output_type": "stream",
     "text": [
      "order_id: Identificador do pedido (Tipo: qualitativa, Subtipo: nominal)\n",
      "store_id: Identificador da loja (Tipo: qualitativa, Subtipo: nominal)\n",
      "channel_id: Identificador do canal de venda (Tipo: qualitativa, Subtipo: nominal)\n",
      "payment_order_id_x: ID do pedido de pagamento (pré-merge) (Tipo: qualitativa, Subtipo: nominal)\n",
      "delivery_order_id: ID do pedido relacionado à entrega (Tipo: qualitativa, Subtipo: nominal)\n",
      "order_status: Status do pedido (Tipo: qualitativa, Subtipo: nominal)\n",
      "order_amount: Valor total do pedido (Tipo: quantitativa, Subtipo: contínua)\n",
      "order_delivery_fee: Taxa de entrega cobrada do cliente (Tipo: quantitativa, Subtipo: contínua)\n",
      "order_delivery_cost: Custo da entrega (Tipo: quantitativa, Subtipo: contínua)\n",
      "order_created_hour: Hora da criação do pedido (Tipo: quantitativa, Subtipo: discreta)\n",
      "order_created_minute: Minuto da criação do pedido (Tipo: quantitativa, Subtipo: discreta)\n",
      "order_created_day: Dia da criação do pedido (Tipo: quantitativa, Subtipo: discreta)\n",
      "order_created_month: Mês da criação do pedido (Tipo: quantitativa, Subtipo: discreta)\n",
      "order_created_year: Ano da criação do pedido (Tipo: quantitativa, Subtipo: discreta)\n",
      "order_moment_created: Data e hora da criação do pedido (Tipo: qualitativa, Subtipo: temporal)\n",
      "order_moment_accepted: Data e hora de aceitação do pedido (Tipo: qualitativa, Subtipo: temporal)\n",
      "order_moment_ready: Data e hora em que o pedido ficou pronto (Tipo: qualitativa, Subtipo: temporal)\n",
      "order_moment_collected: Data e hora da coleta do pedido (Tipo: qualitativa, Subtipo: temporal)\n",
      "order_moment_in_expedition: Data e hora de expedição do pedido (Tipo: qualitativa, Subtipo: temporal)\n",
      "order_moment_delivering: Data e hora de início da entrega (Tipo: qualitativa, Subtipo: temporal)\n",
      "order_moment_delivered: Data e hora da entrega do pedido (Tipo: qualitativa, Subtipo: temporal)\n",
      "order_moment_finished: Data e hora de finalização do pedido (Tipo: qualitativa, Subtipo: temporal)\n",
      "order_metric_collected_time: Tempo até a coleta (Tipo: quantitativa, Subtipo: contínua)\n",
      "order_metric_paused_time: Tempo pausado durante o processo (Tipo: quantitativa, Subtipo: contínua)\n",
      "order_metric_production_time: Tempo de produção do pedido (Tipo: quantitativa, Subtipo: contínua)\n",
      "order_metric_walking_time: Tempo de caminhada até o cliente (Tipo: quantitativa, Subtipo: contínua)\n",
      "order_metric_expediton_speed_time: Tempo de expedição (Tipo: quantitativa, Subtipo: contínua)\n",
      "order_metric_transit_time: Tempo de trânsito até o cliente (Tipo: quantitativa, Subtipo: contínua)\n",
      "order_metric_cycle_time: Tempo total de ciclo do pedido (Tipo: quantitativa, Subtipo: contínua)\n",
      "channel_name: Nome do canal (ex: App, WhatsApp, etc.) (Tipo: qualitativa, Subtipo: nominal)\n",
      "channel_type: Tipo do canal (Próprio, Marketplace, etc.) (Tipo: qualitativa, Subtipo: nominal)\n",
      "hub_id: Identificador do hub logístico (Tipo: qualitativa, Subtipo: nominal)\n",
      "store_name: Nome da loja (Tipo: qualitativa, Subtipo: nominal)\n",
      "store_segment: Segmento da loja (Tipo: qualitativa, Subtipo: nominal)\n",
      "store_plan_price: Valor do plano da loja (Tipo: quantitativa, Subtipo: contínua)\n",
      "store_latitude: Latitude da loja (Tipo: quantitativa, Subtipo: contínua)\n",
      "store_longitude: Longitude da loja (Tipo: quantitativa, Subtipo: contínua)\n",
      "payment_id: Identificador do pagamento (Tipo: qualitativa, Subtipo: nominal)\n",
      "payment_order_id_y: ID do pedido de pagamento (pós-merge) (Tipo: qualitativa, Subtipo: nominal)\n",
      "payment_amount: Valor do pagamento (Tipo: quantitativa, Subtipo: contínua)\n",
      "payment_fee: Taxa da transação (Tipo: quantitativa, Subtipo: contínua)\n",
      "payment_method: Método de pagamento (cartão, pix, etc.) (Tipo: qualitativa, Subtipo: nominal)\n",
      "payment_status: Status do pagamento (Tipo: qualitativa, Subtipo: nominal)\n",
      "delivery_id: Identificador da entrega (Tipo: qualitativa, Subtipo: nominal)\n",
      "driver_id: ID do motorista responsável pela entrega (Tipo: qualitativa, Subtipo: nominal)\n"
     ]
    }
   ],
   "source": [
    "# Relatoria para verificar inconsistências\n",
    "\n",
    "def gerar_relatorio(data_dictionary):\n",
    "    relatorio = []\n",
    "    for _, row in data_dictionary.iterrows():\n",
    "        variavel = row['variavel']\n",
    "        descricao = row['descricao']\n",
    "        tipo = row['tipo']\n",
    "        subtipo = row['subtipo']\n",
    "        \n",
    "        relatorio.append(f\"{variavel}: {descricao} (Tipo: {tipo}, Subtipo: {subtipo})\")\n",
    "    \n",
    "    return relatorio\n",
    "\n",
    "# Função\n",
    "relatorio = gerar_relatorio(data_dictionary)\n",
    "\n",
    "# Imprime o relatório\n",
    "for item in relatorio:\n",
    "    print(item)\n"
   ]
  },
  {
   "cell_type": "markdown",
   "id": "7fd1ddc4-c865-4b13-b9ab-a5d76da30d9e",
   "metadata": {},
   "source": [
    "## Relatório de Dados\n",
    "\n",
    "A partir do relatório gerado, podemos extrair as seguintes observações sobre os dados:\n",
    "\n",
    "## 1. Variáveis Qualitativas (Nominais)\n",
    "A maioria das variáveis no conjunto de dados são qualitativas do tipo nominal. Elas incluem identificadores, status e nomes, como:\n",
    "- Identificadores de pedidos, lojas, canais de venda, pagamentos, entregas e motoristas:\n",
    "  - `order_id`, `store_id`, `payment_id`, `delivery_id`, `driver_id`\n",
    "- Descrições relacionadas a canais e lojas:\n",
    "  - `channel_name`, `store_name`, `store_segment`\n",
    "- Métodos de pagamento e status de pagamento:\n",
    "  - `payment_method`, `payment_status`\n",
    "\n",
    "## 2. Variáveis Quantitativas\n",
    "Há várias variáveis quantitativas, sendo a maioria contínua, o que indica dados numéricos passíveis de operações matemáticas. Elas incluem:\n",
    "- Valores relacionados ao pedido:\n",
    "  - `order_amount`, `order_delivery_fee`, `order_delivery_cost`\n",
    "- Métricas temporais:\n",
    "  - `order_metric_*_time` (tempo de coleta, produção, expedição, entrega, etc.)\n",
    "  - `order_metric_cycle_time` (tempo total de ciclo do pedido)\n",
    "- Dados de localização das lojas:\n",
    "  - `store_latitude`, `store_longitude`\n",
    "- Valores relacionados ao plano da loja:\n",
    "  - `store_plan_price`\n",
    "\n",
    "## 3. Variáveis Temporais\n",
    "Variáveis que indicam pontos no tempo do ciclo do pedido são definidas como qualitativas, mas com um subtipo temporal. Exemplos incluem:\n",
    "- Momentos importantes do pedido:\n",
    "  - `order_moment_*` (criação, aceitação, pronto, coleta, expedição, entrega e finalização)\n",
    "\n",
    "## 4. Dados Discretos e Contínuos\n",
    "- A variável `order_created_*` indica que há dados discretos relacionados à hora, minuto, dia, mês e ano da criação do pedido.\n",
    "- As variáveis de métricas (como tempo de produção e tempo de entrega) são contínuas, indicando medidas precisas ou variáveis sem intervalos finitos.\n",
    "\n",
    "## Conclusão\n",
    "O relatório descreve um conjunto de dados com uma predominância de identificadores e dados temporais qualitativos, juntamente com diversas variáveis quantitativas que são contínuas, possivelmente para análises de desempenho e tempos operacionais.\n"
   ]
  },
  {
   "cell_type": "code",
   "execution_count": 5,
   "id": "1fe1d539-42d3-4221-b174-38dca4cec919",
   "metadata": {},
   "outputs": [
    {
     "data": {
      "text/plain": [
       "order_id                              object\n",
       "store_id                              object\n",
       "channel_id                            object\n",
       "payment_order_id_x                    object\n",
       "delivery_order_id                     object\n",
       "order_status                          object\n",
       "order_amount                         float64\n",
       "order_delivery_fee                   float64\n",
       "order_delivery_cost                  float64\n",
       "order_created_hour                     int64\n",
       "order_created_minute                   int64\n",
       "order_created_day                      int64\n",
       "order_created_month                    int64\n",
       "order_created_year                     int64\n",
       "order_moment_created                  object\n",
       "order_moment_accepted                 object\n",
       "order_moment_ready                    object\n",
       "order_moment_collected                object\n",
       "order_moment_in_expedition            object\n",
       "order_moment_delivering               object\n",
       "order_moment_delivered                object\n",
       "order_moment_finished                 object\n",
       "order_metric_collected_time          float64\n",
       "order_metric_paused_time             float64\n",
       "order_metric_production_time         float64\n",
       "order_metric_walking_time            float64\n",
       "order_metric_expediton_speed_time    float64\n",
       "order_metric_transit_time            float64\n",
       "order_metric_cycle_time              float64\n",
       "channel_name                          object\n",
       "channel_type                          object\n",
       "hub_id                                object\n",
       "store_name                            object\n",
       "store_segment                         object\n",
       "store_plan_price                     float64\n",
       "store_latitude                       float64\n",
       "store_longitude                      float64\n",
       "payment_id                            object\n",
       "payment_order_id_y                    object\n",
       "payment_amount                       float64\n",
       "payment_fee                          float64\n",
       "payment_method                        object\n",
       "payment_status                        object\n",
       "delivery_id                           object\n",
       "driver_id                             object\n",
       "delivery_distance_meters             float64\n",
       "delivery_status                       object\n",
       "driver_modal                          object\n",
       "driver_type                           object\n",
       "hub_name                              object\n",
       "hub_city                              object\n",
       "hub_state                             object\n",
       "hub_latitude                         float64\n",
       "hub_longitude                        float64\n",
       "dtype: object"
      ]
     },
     "execution_count": 5,
     "metadata": {},
     "output_type": "execute_result"
    }
   ],
   "source": [
    "# Correção de tipos de dados\n",
    "df['order_id'] = df['order_id'].astype(str)\n",
    "df['store_id'] = df['store_id'].astype(str)\n",
    "df['channel_id'] = df['channel_id'].astype(str)\n",
    "df['payment_order_id_x'] = df['payment_order_id_x'].astype(str)\n",
    "df['delivery_order_id'] = df['delivery_order_id'].astype(str)\n",
    "df['hub_id'] = df['hub_id'].astype(str)\n",
    "df['payment_id'] = df['payment_id'].astype(str)\n",
    "df['payment_order_id_y'] = df['payment_order_id_y'].astype(str)\n",
    "df['delivery_id'] = df['delivery_id'].astype(str)\n",
    "df['driver_id'] = df['driver_id'].astype(str)\n",
    "\n",
    "# Correção para garantir que as colunas com IDs ou variáveis qualitativas sejam tratadas como strings\n",
    "qualitative_columns = [\n",
    "    'order_id', 'store_id', 'channel_id', 'payment_order_id_x', 'delivery_order_id',\n",
    "    'hub_id', 'payment_id', 'payment_order_id_y', 'delivery_id', 'driver_id'\n",
    "]\n",
    "\n",
    "# Certificando que as colunas qualitativas estão corretamente como string\n",
    "df[qualitative_columns] = df[qualitative_columns].astype(str)\n",
    "\n",
    "# Verificando\n",
    "df.dtypes\n"
   ]
  },
  {
   "cell_type": "markdown",
   "id": "586e4f5b-f918-47f8-af61-dbcf9fcbfec6",
   "metadata": {},
   "source": [
    "## Correção de Tipos de Dados\n",
    "\n",
    "A etapa de correção de tipos de dados visa garantir que as variáveis qualitativas (como identificadores e categorias) sejam tratadas como strings (texto). As colunas que representam identificadores únicos, como `order_id`, `store_id`, `channel_id`, entre outras, foram convertidas para o tipo de dado string para evitar que sejam interpretadas como números, o que poderia levar a erros em operações matemáticas. Após a conversão, foi realizada uma verificação para garantir que todas as colunas especificadas estão corretamente configuradas como strings, assegurando consistência e precisão no tratamento dos dados."
   ]
  },
  {
   "cell_type": "code",
   "execution_count": 6,
   "id": "260d6922-dc2f-41e7-9846-49b0bc9f8dd0",
   "metadata": {},
   "outputs": [
    {
     "data": {
      "application/vnd.plotly.v1+json": {
       "config": {
        "plotlyServerURL": "https://plot.ly"
       },
       "data": [
        {
         "cells": {
          "align": "left",
          "fill": {
           "color": "lavender"
          },
          "values": [
           [
            "order_id",
            "store_id",
            "channel_id",
            "payment_order_id_x",
            "delivery_order_id",
            "order_status",
            "order_amount",
            "order_delivery_fee",
            "order_delivery_cost",
            "order_created_hour",
            "order_created_minute",
            "order_created_day",
            "order_created_month",
            "order_created_year",
            "order_moment_created",
            "order_moment_accepted",
            "order_moment_ready",
            "order_moment_collected",
            "order_moment_in_expedition",
            "order_moment_delivering",
            "order_moment_delivered",
            "order_moment_finished",
            "order_metric_collected_time",
            "order_metric_paused_time",
            "order_metric_production_time",
            "order_metric_walking_time",
            "order_metric_expediton_speed_time",
            "order_metric_transit_time",
            "order_metric_cycle_time",
            "channel_name",
            "channel_type",
            "hub_id",
            "store_name",
            "store_segment",
            "store_plan_price",
            "store_latitude",
            "store_longitude",
            "payment_id",
            "payment_order_id_y",
            "payment_amount",
            "payment_fee",
            "payment_method",
            "payment_status",
            "delivery_id",
            "driver_id"
           ],
           [
            "Identificador do pedido",
            "Identificador da loja",
            "Identificador do canal de venda",
            "ID do pedido de pagamento (pré-merge)",
            "ID do pedido relacionado à entrega",
            "Status do pedido",
            "Valor total do pedido",
            "Taxa de entrega cobrada do cliente",
            "Custo da entrega",
            "Hora da criação do pedido",
            "Minuto da criação do pedido",
            "Dia da criação do pedido",
            "Mês da criação do pedido",
            "Ano da criação do pedido",
            "Data e hora da criação do pedido",
            "Data e hora de aceitação do pedido",
            "Data e hora em que o pedido ficou pronto",
            "Data e hora da coleta do pedido",
            "Data e hora de expedição do pedido",
            "Data e hora de início da entrega",
            "Data e hora da entrega do pedido",
            "Data e hora de finalização do pedido",
            "Tempo até a coleta",
            "Tempo pausado durante o processo",
            "Tempo de produção do pedido",
            "Tempo de caminhada até o cliente",
            "Tempo de expedição",
            "Tempo de trânsito até o cliente",
            "Tempo total de ciclo do pedido",
            "Nome do canal (ex: App, WhatsApp, etc.)",
            "Tipo do canal (Próprio, Marketplace, etc.)",
            "Identificador do hub logístico",
            "Nome da loja",
            "Segmento da loja",
            "Valor do plano da loja",
            "Latitude da loja",
            "Longitude da loja",
            "Identificador do pagamento",
            "ID do pedido de pagamento (pós-merge)",
            "Valor do pagamento",
            "Taxa da transação",
            "Método de pagamento (cartão, pix, etc.)",
            "Status do pagamento",
            "Identificador da entrega",
            "ID do motorista responsável pela entrega"
           ],
           [
            "qualitativa",
            "qualitativa",
            "qualitativa",
            "qualitativa",
            "qualitativa",
            "qualitativa",
            "quantitativa",
            "quantitativa",
            "quantitativa",
            "quantitativa",
            "quantitativa",
            "quantitativa",
            "quantitativa",
            "quantitativa",
            "qualitativa",
            "qualitativa",
            "qualitativa",
            "qualitativa",
            "qualitativa",
            "qualitativa",
            "qualitativa",
            "qualitativa",
            "quantitativa",
            "quantitativa",
            "quantitativa",
            "quantitativa",
            "quantitativa",
            "quantitativa",
            "quantitativa",
            "qualitativa",
            "qualitativa",
            "qualitativa",
            "qualitativa",
            "qualitativa",
            "quantitativa",
            "quantitativa",
            "quantitativa",
            "qualitativa",
            "qualitativa",
            "quantitativa",
            "quantitativa",
            "qualitativa",
            "qualitativa",
            "qualitativa",
            "qualitativa"
           ],
           [
            "nominal",
            "nominal",
            "nominal",
            "nominal",
            "nominal",
            "nominal",
            "contínua",
            "contínua",
            "contínua",
            "discreta",
            "discreta",
            "discreta",
            "discreta",
            "discreta",
            "temporal",
            "temporal",
            "temporal",
            "temporal",
            "temporal",
            "temporal",
            "temporal",
            "temporal",
            "contínua",
            "contínua",
            "contínua",
            "contínua",
            "contínua",
            "contínua",
            "contínua",
            "nominal",
            "nominal",
            "nominal",
            "nominal",
            "nominal",
            "contínua",
            "contínua",
            "contínua",
            "nominal",
            "nominal",
            "contínua",
            "contínua",
            "nominal",
            "nominal",
            "nominal",
            "nominal"
           ]
          ]
         },
         "header": {
          "align": "left",
          "fill": {
           "color": "darkblue"
          },
          "font": {
           "color": "white"
          },
          "values": [
           "variavel",
           "descricao",
           "tipo",
           "subtipo"
          ]
         },
         "type": "table"
        }
       ],
       "layout": {
        "autosize": false,
        "height": 600,
        "template": {
         "data": {
          "bar": [
           {
            "error_x": {
             "color": "#2a3f5f"
            },
            "error_y": {
             "color": "#2a3f5f"
            },
            "marker": {
             "line": {
              "color": "#E5ECF6",
              "width": 0.5
             },
             "pattern": {
              "fillmode": "overlay",
              "size": 10,
              "solidity": 0.2
             }
            },
            "type": "bar"
           }
          ],
          "barpolar": [
           {
            "marker": {
             "line": {
              "color": "#E5ECF6",
              "width": 0.5
             },
             "pattern": {
              "fillmode": "overlay",
              "size": 10,
              "solidity": 0.2
             }
            },
            "type": "barpolar"
           }
          ],
          "carpet": [
           {
            "aaxis": {
             "endlinecolor": "#2a3f5f",
             "gridcolor": "white",
             "linecolor": "white",
             "minorgridcolor": "white",
             "startlinecolor": "#2a3f5f"
            },
            "baxis": {
             "endlinecolor": "#2a3f5f",
             "gridcolor": "white",
             "linecolor": "white",
             "minorgridcolor": "white",
             "startlinecolor": "#2a3f5f"
            },
            "type": "carpet"
           }
          ],
          "choropleth": [
           {
            "colorbar": {
             "outlinewidth": 0,
             "ticks": ""
            },
            "type": "choropleth"
           }
          ],
          "contour": [
           {
            "colorbar": {
             "outlinewidth": 0,
             "ticks": ""
            },
            "colorscale": [
             [
              0,
              "#0d0887"
             ],
             [
              0.1111111111111111,
              "#46039f"
             ],
             [
              0.2222222222222222,
              "#7201a8"
             ],
             [
              0.3333333333333333,
              "#9c179e"
             ],
             [
              0.4444444444444444,
              "#bd3786"
             ],
             [
              0.5555555555555556,
              "#d8576b"
             ],
             [
              0.6666666666666666,
              "#ed7953"
             ],
             [
              0.7777777777777778,
              "#fb9f3a"
             ],
             [
              0.8888888888888888,
              "#fdca26"
             ],
             [
              1,
              "#f0f921"
             ]
            ],
            "type": "contour"
           }
          ],
          "contourcarpet": [
           {
            "colorbar": {
             "outlinewidth": 0,
             "ticks": ""
            },
            "type": "contourcarpet"
           }
          ],
          "heatmap": [
           {
            "colorbar": {
             "outlinewidth": 0,
             "ticks": ""
            },
            "colorscale": [
             [
              0,
              "#0d0887"
             ],
             [
              0.1111111111111111,
              "#46039f"
             ],
             [
              0.2222222222222222,
              "#7201a8"
             ],
             [
              0.3333333333333333,
              "#9c179e"
             ],
             [
              0.4444444444444444,
              "#bd3786"
             ],
             [
              0.5555555555555556,
              "#d8576b"
             ],
             [
              0.6666666666666666,
              "#ed7953"
             ],
             [
              0.7777777777777778,
              "#fb9f3a"
             ],
             [
              0.8888888888888888,
              "#fdca26"
             ],
             [
              1,
              "#f0f921"
             ]
            ],
            "type": "heatmap"
           }
          ],
          "heatmapgl": [
           {
            "colorbar": {
             "outlinewidth": 0,
             "ticks": ""
            },
            "colorscale": [
             [
              0,
              "#0d0887"
             ],
             [
              0.1111111111111111,
              "#46039f"
             ],
             [
              0.2222222222222222,
              "#7201a8"
             ],
             [
              0.3333333333333333,
              "#9c179e"
             ],
             [
              0.4444444444444444,
              "#bd3786"
             ],
             [
              0.5555555555555556,
              "#d8576b"
             ],
             [
              0.6666666666666666,
              "#ed7953"
             ],
             [
              0.7777777777777778,
              "#fb9f3a"
             ],
             [
              0.8888888888888888,
              "#fdca26"
             ],
             [
              1,
              "#f0f921"
             ]
            ],
            "type": "heatmapgl"
           }
          ],
          "histogram": [
           {
            "marker": {
             "pattern": {
              "fillmode": "overlay",
              "size": 10,
              "solidity": 0.2
             }
            },
            "type": "histogram"
           }
          ],
          "histogram2d": [
           {
            "colorbar": {
             "outlinewidth": 0,
             "ticks": ""
            },
            "colorscale": [
             [
              0,
              "#0d0887"
             ],
             [
              0.1111111111111111,
              "#46039f"
             ],
             [
              0.2222222222222222,
              "#7201a8"
             ],
             [
              0.3333333333333333,
              "#9c179e"
             ],
             [
              0.4444444444444444,
              "#bd3786"
             ],
             [
              0.5555555555555556,
              "#d8576b"
             ],
             [
              0.6666666666666666,
              "#ed7953"
             ],
             [
              0.7777777777777778,
              "#fb9f3a"
             ],
             [
              0.8888888888888888,
              "#fdca26"
             ],
             [
              1,
              "#f0f921"
             ]
            ],
            "type": "histogram2d"
           }
          ],
          "histogram2dcontour": [
           {
            "colorbar": {
             "outlinewidth": 0,
             "ticks": ""
            },
            "colorscale": [
             [
              0,
              "#0d0887"
             ],
             [
              0.1111111111111111,
              "#46039f"
             ],
             [
              0.2222222222222222,
              "#7201a8"
             ],
             [
              0.3333333333333333,
              "#9c179e"
             ],
             [
              0.4444444444444444,
              "#bd3786"
             ],
             [
              0.5555555555555556,
              "#d8576b"
             ],
             [
              0.6666666666666666,
              "#ed7953"
             ],
             [
              0.7777777777777778,
              "#fb9f3a"
             ],
             [
              0.8888888888888888,
              "#fdca26"
             ],
             [
              1,
              "#f0f921"
             ]
            ],
            "type": "histogram2dcontour"
           }
          ],
          "mesh3d": [
           {
            "colorbar": {
             "outlinewidth": 0,
             "ticks": ""
            },
            "type": "mesh3d"
           }
          ],
          "parcoords": [
           {
            "line": {
             "colorbar": {
              "outlinewidth": 0,
              "ticks": ""
             }
            },
            "type": "parcoords"
           }
          ],
          "pie": [
           {
            "automargin": true,
            "type": "pie"
           }
          ],
          "scatter": [
           {
            "fillpattern": {
             "fillmode": "overlay",
             "size": 10,
             "solidity": 0.2
            },
            "type": "scatter"
           }
          ],
          "scatter3d": [
           {
            "line": {
             "colorbar": {
              "outlinewidth": 0,
              "ticks": ""
             }
            },
            "marker": {
             "colorbar": {
              "outlinewidth": 0,
              "ticks": ""
             }
            },
            "type": "scatter3d"
           }
          ],
          "scattercarpet": [
           {
            "marker": {
             "colorbar": {
              "outlinewidth": 0,
              "ticks": ""
             }
            },
            "type": "scattercarpet"
           }
          ],
          "scattergeo": [
           {
            "marker": {
             "colorbar": {
              "outlinewidth": 0,
              "ticks": ""
             }
            },
            "type": "scattergeo"
           }
          ],
          "scattergl": [
           {
            "marker": {
             "colorbar": {
              "outlinewidth": 0,
              "ticks": ""
             }
            },
            "type": "scattergl"
           }
          ],
          "scattermapbox": [
           {
            "marker": {
             "colorbar": {
              "outlinewidth": 0,
              "ticks": ""
             }
            },
            "type": "scattermapbox"
           }
          ],
          "scatterpolar": [
           {
            "marker": {
             "colorbar": {
              "outlinewidth": 0,
              "ticks": ""
             }
            },
            "type": "scatterpolar"
           }
          ],
          "scatterpolargl": [
           {
            "marker": {
             "colorbar": {
              "outlinewidth": 0,
              "ticks": ""
             }
            },
            "type": "scatterpolargl"
           }
          ],
          "scatterternary": [
           {
            "marker": {
             "colorbar": {
              "outlinewidth": 0,
              "ticks": ""
             }
            },
            "type": "scatterternary"
           }
          ],
          "surface": [
           {
            "colorbar": {
             "outlinewidth": 0,
             "ticks": ""
            },
            "colorscale": [
             [
              0,
              "#0d0887"
             ],
             [
              0.1111111111111111,
              "#46039f"
             ],
             [
              0.2222222222222222,
              "#7201a8"
             ],
             [
              0.3333333333333333,
              "#9c179e"
             ],
             [
              0.4444444444444444,
              "#bd3786"
             ],
             [
              0.5555555555555556,
              "#d8576b"
             ],
             [
              0.6666666666666666,
              "#ed7953"
             ],
             [
              0.7777777777777778,
              "#fb9f3a"
             ],
             [
              0.8888888888888888,
              "#fdca26"
             ],
             [
              1,
              "#f0f921"
             ]
            ],
            "type": "surface"
           }
          ],
          "table": [
           {
            "cells": {
             "fill": {
              "color": "#EBF0F8"
             },
             "line": {
              "color": "white"
             }
            },
            "header": {
             "fill": {
              "color": "#C8D4E3"
             },
             "line": {
              "color": "white"
             }
            },
            "type": "table"
           }
          ]
         },
         "layout": {
          "annotationdefaults": {
           "arrowcolor": "#2a3f5f",
           "arrowhead": 0,
           "arrowwidth": 1
          },
          "autotypenumbers": "strict",
          "coloraxis": {
           "colorbar": {
            "outlinewidth": 0,
            "ticks": ""
           }
          },
          "colorscale": {
           "diverging": [
            [
             0,
             "#8e0152"
            ],
            [
             0.1,
             "#c51b7d"
            ],
            [
             0.2,
             "#de77ae"
            ],
            [
             0.3,
             "#f1b6da"
            ],
            [
             0.4,
             "#fde0ef"
            ],
            [
             0.5,
             "#f7f7f7"
            ],
            [
             0.6,
             "#e6f5d0"
            ],
            [
             0.7,
             "#b8e186"
            ],
            [
             0.8,
             "#7fbc41"
            ],
            [
             0.9,
             "#4d9221"
            ],
            [
             1,
             "#276419"
            ]
           ],
           "sequential": [
            [
             0,
             "#0d0887"
            ],
            [
             0.1111111111111111,
             "#46039f"
            ],
            [
             0.2222222222222222,
             "#7201a8"
            ],
            [
             0.3333333333333333,
             "#9c179e"
            ],
            [
             0.4444444444444444,
             "#bd3786"
            ],
            [
             0.5555555555555556,
             "#d8576b"
            ],
            [
             0.6666666666666666,
             "#ed7953"
            ],
            [
             0.7777777777777778,
             "#fb9f3a"
            ],
            [
             0.8888888888888888,
             "#fdca26"
            ],
            [
             1,
             "#f0f921"
            ]
           ],
           "sequentialminus": [
            [
             0,
             "#0d0887"
            ],
            [
             0.1111111111111111,
             "#46039f"
            ],
            [
             0.2222222222222222,
             "#7201a8"
            ],
            [
             0.3333333333333333,
             "#9c179e"
            ],
            [
             0.4444444444444444,
             "#bd3786"
            ],
            [
             0.5555555555555556,
             "#d8576b"
            ],
            [
             0.6666666666666666,
             "#ed7953"
            ],
            [
             0.7777777777777778,
             "#fb9f3a"
            ],
            [
             0.8888888888888888,
             "#fdca26"
            ],
            [
             1,
             "#f0f921"
            ]
           ]
          },
          "colorway": [
           "#636efa",
           "#EF553B",
           "#00cc96",
           "#ab63fa",
           "#FFA15A",
           "#19d3f3",
           "#FF6692",
           "#B6E880",
           "#FF97FF",
           "#FECB52"
          ],
          "font": {
           "color": "#2a3f5f"
          },
          "geo": {
           "bgcolor": "white",
           "lakecolor": "white",
           "landcolor": "#E5ECF6",
           "showlakes": true,
           "showland": true,
           "subunitcolor": "white"
          },
          "hoverlabel": {
           "align": "left"
          },
          "hovermode": "closest",
          "mapbox": {
           "style": "light"
          },
          "paper_bgcolor": "white",
          "plot_bgcolor": "#E5ECF6",
          "polar": {
           "angularaxis": {
            "gridcolor": "white",
            "linecolor": "white",
            "ticks": ""
           },
           "bgcolor": "#E5ECF6",
           "radialaxis": {
            "gridcolor": "white",
            "linecolor": "white",
            "ticks": ""
           }
          },
          "scene": {
           "xaxis": {
            "backgroundcolor": "#E5ECF6",
            "gridcolor": "white",
            "gridwidth": 2,
            "linecolor": "white",
            "showbackground": true,
            "ticks": "",
            "zerolinecolor": "white"
           },
           "yaxis": {
            "backgroundcolor": "#E5ECF6",
            "gridcolor": "white",
            "gridwidth": 2,
            "linecolor": "white",
            "showbackground": true,
            "ticks": "",
            "zerolinecolor": "white"
           },
           "zaxis": {
            "backgroundcolor": "#E5ECF6",
            "gridcolor": "white",
            "gridwidth": 2,
            "linecolor": "white",
            "showbackground": true,
            "ticks": "",
            "zerolinecolor": "white"
           }
          },
          "shapedefaults": {
           "line": {
            "color": "#2a3f5f"
           }
          },
          "ternary": {
           "aaxis": {
            "gridcolor": "white",
            "linecolor": "white",
            "ticks": ""
           },
           "baxis": {
            "gridcolor": "white",
            "linecolor": "white",
            "ticks": ""
           },
           "bgcolor": "#E5ECF6",
           "caxis": {
            "gridcolor": "white",
            "linecolor": "white",
            "ticks": ""
           }
          },
          "title": {
           "x": 0.05
          },
          "xaxis": {
           "automargin": true,
           "gridcolor": "white",
           "linecolor": "white",
           "ticks": "",
           "title": {
            "standoff": 15
           },
           "zerolinecolor": "white",
           "zerolinewidth": 2
          },
          "yaxis": {
           "automargin": true,
           "gridcolor": "white",
           "linecolor": "white",
           "ticks": "",
           "title": {
            "standoff": 15
           },
           "zerolinecolor": "white",
           "zerolinewidth": 2
          }
         }
        },
        "title": {
         "text": "Amostra do Dicionário de Dados",
         "x": 0.5
        },
        "width": 1200
       }
      },
      "image/png": "[encoded data removed]"
     },
     "metadata": {},
     "output_type": "display_data"
    }
   ],
   "source": [
    "import plotly.io as pio\n",
    "pio.renderers.default = 'jupyterlab'\n",
    "import plotly.graph_objects as go\n",
    "\n",
    "# Converter todas as colunas para string para evitar erros\n",
    "dicionario_str = data_dictionary.astype(str)\n",
    "\n",
    "# Criar a tabela com Plotly\n",
    "fig = go.Figure(data=[go.Table(\n",
    "    header=dict(values=list(dicionario_str.columns),\n",
    "                fill_color='darkblue',\n",
    "                font=dict(color='white'),\n",
    "                align='left'),\n",
    "    cells=dict(values=[dicionario_str[col] for col in dicionario_str.columns],\n",
    "               fill_color='lavender',\n",
    "               align='left'))\n",
    "])\n",
    "\n",
    "# Ajustar o tamanho \n",
    "fig.update_layout(\n",
    "    autosize=False,\n",
    "    width=1200,  \n",
    "    height=600,  \n",
    "    title=\"Amostra do Dicionário de Dados\",  \n",
    "    title_x=0.5, \n",
    ")\n",
    "\n",
    "# Exibir a tabela\n",
    "fig.show()\n"
   ]
  },
  {
   "cell_type": "markdown",
   "id": "4af00dd3-5212-4102-ac07-d219d223314b",
   "metadata": {},
   "source": [
    "A conversão das colunas para string garante que todos os dados sejam tratados de forma uniforme, evitando erros de tipo e garantindo uma exibição correta na tabela. O uso do Plotly facilita a criação de uma tabela interativa e personalizada, com cabeçalho e células coloridas para melhorar a leitura e o entendimento dos dados."
   ]
  }
 ],
 "metadata": {
  "kernelspec": {
   "display_name": "Python 3 (ipykernel)",
   "language": "python",
   "name": "python3"
  },
  "language_info": {
   "codemirror_mode": {
    "name": "ipython",
    "version": 3
   },
   "file_extension": ".py",
   "mimetype": "text/x-python",
   "name": "python",
   "nbconvert_exporter": "python",
   "pygments_lexer": "ipython3",
   "version": "3.10.11"
  }
 },
 "nbformat": 4,
 "nbformat_minor": 5
}
